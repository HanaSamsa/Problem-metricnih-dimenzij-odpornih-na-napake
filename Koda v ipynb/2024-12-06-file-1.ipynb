{
 "cells": [
  {
   "cell_type": "code",
   "execution_count": 13,
   "id": "a85cda",
   "metadata": {
    "collapsed": false
   },
   "outputs": [
   ],
   "source": [
    "def na_napake_odporna_metricna_dimenzija(G):\n",
    "\n",
    "    n = G.num_verts() # izračunam število vozlišč grafa G\n",
    "    razdalje = G.distance_all_pairs() # matrika razdalj med vsakim parom vozlišč iz G\n",
    "\n",
    "\n",
    "    # inicializacija CLP:\n",
    "\n",
    "    p = MixedIntegerLinearProgram(maximization = False) # minimizacija\n",
    "    x = p.new_variable(binary = True) # ustvarjanje binarne spremenljivke za uporabo znotraj CLP p\n",
    "\n",
    "\n",
    "    # definicija koeficientne matrike A:\n",
    "\n",
    "    A = {} # oblika slovarja omogoča boljšo shrambo in dostop do našega tipa vrednosti\n",
    "    for u in range(n):\n",
    "        for v in range(u + 1, n):\n",
    "            for i in range(n):\n",
    "                A[(u, v), i] = 1 if razdalje[u][i] != razdalje[v][i] else 0\n",
    "\n",
    "\n",
    "    # ciljna funkcija:\n",
    "\n",
    "    p.set_objective(sum(x[i] for i in range(n)))\n",
    "\n",
    "\n",
    "    # pogoj: vsak par (u, v) ima vsaj dve razločujoči vozlišči v S:\n",
    "\n",
    "    for u in range(n):\n",
    "        for v in range(u + 1, n):\n",
    "            p.add_constraint(sum(A[(u, v), i] * x[i] for i in range(n)) >= 2)\n",
    "\n",
    "\n",
    "    # reševanje CLP:\n",
    "\n",
    "    p.solve()\n",
    "    na_napake_odporna_razlocujoca_mnozica = [i for i in range(n) if round(p.get_values(x[i])) == 1]\n",
    "\n",
    "\n",
    "    # vrnemo kardinalnost = moč razločujoče množice:\n",
    "\n",
    "    return len(na_napake_odporna_razlocujoca_mnozica)"
   ]
  },
  {
   "cell_type": "code",
   "execution_count": 14,
   "id": "85a6d2",
   "metadata": {
    "collapsed": false
   },
   "outputs": [
   ],
   "source": [
    "def metricna_dimenzija(G):\n",
    "\n",
    "    n = G.num_verts()\n",
    "    razdalje = G.distance_all_pairs()\n",
    "\n",
    "    p = MixedIntegerLinearProgram(maximization = False)\n",
    "    x = p.new_variable(binary = True)\n",
    "\n",
    "    A = {}\n",
    "    for u in range(n):\n",
    "        for v in range(u + 1, n):\n",
    "            for i in range(n):\n",
    "                A[(u, v), i] = 1 if razdalje[u][i] != razdalje[v][i] else 0\n",
    "\n",
    "    p.set_objective(sum(x[i] for i in range(n)))\n",
    "\n",
    "    for u in range(n):\n",
    "        for v in range(u + 1, n):\n",
    "            p.add_constraint(sum(A[(u, v), i] * x[i] for i in range(n)) >= 1)\n",
    "\n",
    "    p.solve()\n",
    "    razlocujoca_mnozica = [i for i in range(n) if round(p.get_values(x[i])) == 1]\n",
    "\n",
    "    return len(razlocujoca_mnozica)"
   ]
  },
  {
   "cell_type": "code",
   "execution_count": 15,
   "id": "54c447",
   "metadata": {
    "collapsed": false
   },
   "outputs": [
   ],
   "source": [
    "def poisci_grafe(ciljna_dim, ciljna_ftdim, st_vozlisc): # najmanjše možno število vozlišč za ftdim = 5 je 7, pod tem sploh ne preverjamo\n",
    "\n",
    "    grafi = [] # dodajali bomo ustrezne grafe\n",
    "\n",
    "    for G in graphs.nauty_geng(f'{st_vozlisc} -c'): # samo povezani grafi\n",
    "        dim = metricna_dimenzija(G)\n",
    "        ftdim = na_napake_odporna_metricna_dimenzija(G)\n",
    "\n",
    "        if dim == ciljna_dim and ftdim == ciljna_ftdim:\n",
    "            sosedi = {v: list(G[v]) for v in G} # sosede potrebujemo za risanje grafov\n",
    "            grafi.append((G, st_vozlisc, dim, ftdim, sosedi))\n",
    "            plt.figure(figsize = (6, 6))\n",
    "            plot(G).show()  # izrišem grafe\n",
    "            plt.close()"
   ]
  },
  {
   "cell_type": "code",
   "execution_count": 16,
   "id": "955373",
   "metadata": {
    "collapsed": false
   },
   "outputs": [
    {
     "ename": "SyntaxError",
     "evalue": "invalid syntax (825845404.py, line 1)",
     "output_type": "error",
     "traceback": [
      "\u001b[0;36m  Cell \u001b[0;32mIn[16], line 1\u001b[0;36m\u001b[0m\n\u001b[0;31m    def poisci_grafe(Integer(2), Integer(4), Integer(4))\u001b[0m\n\u001b[0m                            ^\u001b[0m\n\u001b[0;31mSyntaxError\u001b[0m\u001b[0;31m:\u001b[0m invalid syntax\n"
     ]
    }
   ],
   "source": [
    "def poisci_grafe(2, 4, 4)"
   ]
  }
 ],
 "metadata": {
  "kernelspec": {
   "argv": [
    "sage-10.4",
    "--python",
    "-m",
    "sage.repl.ipython_kernel",
    "--matplotlib=inline",
    "-f",
    "{connection_file}"
   ],
   "display_name": "SageMath 10.4",
   "env": {
   },
   "language": "sagemath",
   "metadata": {
    "cocalc": {
     "description": "Open-source mathematical software system",
     "priority": 10,
     "url": "https://www.sagemath.org/"
    }
   },
   "name": "sage-10.4",
   "resource_dir": "/ext/jupyter/kernels/sage-10.4"
  }
 },
 "nbformat": 4,
 "nbformat_minor": 4
}