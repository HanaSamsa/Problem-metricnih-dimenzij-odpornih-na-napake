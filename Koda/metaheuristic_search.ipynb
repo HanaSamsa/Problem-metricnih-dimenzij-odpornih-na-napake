def metricna_dimenzija(G):
    n = G.num_verts()
    razdalje = G.distance_all_pairs()
    p = MixedIntegerLinearProgram(maximization = False)
    x = p.new_variable(binary = True)

    A = {}
    for u in range(n):
        for v in range(u + 1, n):
            for i in range(n):
                A[(u, v), i] = 1 if razdalje[u][i] != razdalje[v][i] else 0

    p.set_objective(sum(x[i] for i in range(n)))
    
    for u in range(n):
        for v in range(u + 1, n):
            p.add_constraint(sum(A[(u, v), i] * x[i] for i in range(n)) >= 1)

    p.solve()
    razlocujoca_mnozica = [i for i in range(n) if round(p.get_values(x[i])) == 1]

    return len(razlocujoca_mnozica)
